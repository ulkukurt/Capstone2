{
 "cells": [
  {
   "cell_type": "markdown",
   "metadata": {},
   "source": [
    "# Drug Rating Analysis Based On Review"
   ]
  },
  {
   "cell_type": "markdown",
   "metadata": {},
   "source": [
    "### Problem Identification and Data Definitions"
   ]
  },
  {
   "cell_type": "markdown",
   "metadata": {},
   "source": [
    "#### Context:"
   ]
  },
  {
   "cell_type": "markdown",
   "metadata": {},
   "source": [
    "This dataset is originally from the UCI Machine Learning repository. Citation:\n",
    "\n",
    "Felix Gräßer, Surya Kallumadi, Hagen Malberg, and Sebastian Zaunseder. 2018. Aspect-Based Sentiment Analysis of Drug Reviews Applying Cross-Domain and Cross-Data Learning. In Proceedings of the 2018 International Conference on Digital Health (DH '18). ACM, New York, NY, USA, 121-125."
   ]
  },
  {
   "cell_type": "markdown",
   "metadata": {},
   "source": [
    "#### Content:"
   ]
  },
  {
   "cell_type": "markdown",
   "metadata": {},
   "source": [
    "\n",
    "uniqueID: Unique ID for every patient\n",
    "\n",
    "drugName: Name of the drug\n",
    "\n",
    "condition: Name of the condition\n",
    "\n",
    "review: Patient review\n",
    "\n",
    "rating: Patient rating out of 10\n",
    "\n",
    "date: Date of given review\n",
    "\n",
    "usefulCount: Number of users who found review useful\n",
    "\n",
    "\n",
    "\n",
    "According to the features we can induce that: A patient with a serious condition, is given a drug by a professional. And after using it, if patient find it beneficial, gives a positive review and high rating for it. Therefore, if another patient finds the review helpful, gives 1 point which will go to the usefulCount feature.\n",
    "\n",
    "\n",
    "In consideration of the dataset, these are the questions we want to answer:\n",
    "\n",
    ". How accurate we can predict ratings based on reviews?\n",
    "\n",
    ". Do identifying the sentiment of a review help us to predict the rating?\n",
    "\n",
    ". Which side do people have tendency to give rating: positif, negatif, neutral?\n"
   ]
  },
  {
   "cell_type": "markdown",
   "metadata": {},
   "source": [
    "# EDA"
   ]
  },
  {
   "cell_type": "markdown",
   "metadata": {},
   "source": [
    "First, we made a sentiment analyze and compared the results with reviews and ratings.\n",
    "\n",
    "It is obvious that, there is a moderate relation between rating and sentiment, which means:\n",
    "\n",
    "\n",
    "Positive review: >=0.05\n",
    "\n",
    "Neutral review: -0.05 and 0.05\n",
    "\n",
    "Negative review: <=-0.05\n",
    "\n",
    "\n",
    "We can see from the below that, while the rating is 9, sentiment is -0.9 which means negative. Likewise, while rating 10, sentiment is -0.7, it is again negative, too. "
   ]
  },
  {
   "cell_type": "raw",
   "metadata": {},
   "source": [
    "                                          review                  rating                sentiment\n",
    "                                          \n",
    "\n",
    "4 \"Suboxone has completely turned my life around...                    9                   0.9403\n",
    "\n",
    "4 \"I have been on this birth control for one cyc...                    9                   0.9559\n",
    "\n",
    "75 \"I've had mine for over a year and noticed the...                   6                   0.7777\n",
    "\n",
    "75 \"Pregabalin for me was miraculous. On the firs...                  10                   0.8809\n",
    "\n",
    "157 \"I got this inserted 3 years ago, my arm hurt ...                  9                  -0.4215\n",
    "\n",
    "157 \"I switched to Gianvi from Aviane in hopes of ...                  4                  -0.0545\n",
    "\n",
    "254 \"My Dr agreed to over see putting me on Qsymia...                  9                   0.7033\n",
    "\n",
    "254 \"On day 17 of 25 day Efudex fluorouracil 5% cr...                 10                   0.1842\n",
    "\n",
    "578 \"This medication completely changed my life fo...                 10                  -0.7224\n",
    "\n",
    "578 \"I have been on various medications for years,...                 10                   0.9711\n",
    "\n",
    "1289 \"Hyped me up like crazy. Made anxiety worse. ...                  3                  -0.7845\n",
    "\n",
    "1289 \"I had a third degree sunburn once and used th...                10                   0.2255\n",
    "\n",
    "4899 \"I have arthritis in most joints, especially i...                 9                   0.3578\n",
    "\n",
    "4899 \"I started Avonex about 6 months after diagnos...                 9                  -0.9398\n",
    "\n",
    "98543 \"I just started contrave on the 3rd of October...                9                   0.3182\n",
    "\n",
    "160000 \"Used it last night for knee pain and it start...               1                  -0.8800"
   ]
  },
  {
   "cell_type": "markdown",
   "metadata": {},
   "source": [
    "Next, we divided Ratings to 2 parts, to make clear classification. From the graph, we can see that the highest given ratings are 1, 7, 8, 9, 10, which means the mean of rating is 6.98, according to the calculations."
   ]
  },
  {
   "attachments": {
    "image.png": {
     "image/png": "[encoded data removed]"
    }
   },
   "cell_type": "markdown",
   "metadata": {},
   "source": [
    "![image.png](attachment:image.png)"
   ]
  },
  {
   "attachments": {
    "image.png": {
     "image/png": "[encoded data removed]"
    }
   },
   "cell_type": "markdown",
   "metadata": {},
   "source": [
    "![image.png](attachment:image.png)"
   ]
  },
  {
   "cell_type": "markdown",
   "metadata": {},
   "source": [
    "# Pre-processing and Training Data Development"
   ]
  },
  {
   "cell_type": "markdown",
   "metadata": {},
   "source": [
    "After seperating Ratings to 2 parts which are:\n",
    "\n",
    "1 is for >7\n",
    "\n",
    "0 is for <=7\n",
    "\n",
    "we converted Reviews to numeric data for the modelling. \n"
   ]
  },
  {
   "cell_type": "markdown",
   "metadata": {},
   "source": [
    "# Modeling"
   ]
  },
  {
   "cell_type": "markdown",
   "metadata": {},
   "source": [
    "According to our model results, which is as a specific 0.89, which means if we take a review and want to predict its rating, we can predict 89% be sure about it is right."
   ]
  }
 ],
 "metadata": {
  "kernelspec": {
   "display_name": "Python 3",
   "language": "python",
   "name": "python3"
  },
  "language_info": {
   "codemirror_mode": {
    "name": "ipython",
    "version": 3
   },
   "file_extension": ".py",
   "mimetype": "text/x-python",
   "name": "python",
   "nbconvert_exporter": "python",
   "pygments_lexer": "ipython3",
   "version": "3.7.4"
  }
 },
 "nbformat": 4,
 "nbformat_minor": 4
}
